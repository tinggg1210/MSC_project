{
 "cells": [
  {
   "cell_type": "code",
   "execution_count": null,
   "metadata": {},
   "outputs": [],
   "source": [
    "# Install the pytorch and ultralytics \n",
    "%pip install -U ultralytics\n",
    "%pip install torch torchvision torchaudio\n",
    "%pip install pandas"
   ]
  },
  {
   "cell_type": "code",
   "execution_count": 1,
   "metadata": {},
   "outputs": [
    {
     "name": "stdout",
     "output_type": "stream",
     "text": [
      "Ultralytics YOLOv8.2.22  Python-3.10.0 torch-2.1.2 CUDA:0 (Quadro RTX 4000, 8192MiB)\n",
      "Setup complete  (20 CPUs, 63.7 GB RAM, 299.9/475.7 GB disk)\n"
     ]
    }
   ],
   "source": [
    "import ultralytics \n",
    "#import cv2\n",
    "import pandas as pd\n",
    "from distutils.dir_util import copy_tree\n",
    "import os\n",
    "# Check  GPU  and pytorch works\n",
    "ultralytics.checks()\n",
    "\n",
    "# It should list GPU device ex:  \n",
    "# Ultralytics YOLOv8.1.0 🚀 Python-3.10.13 torch-2.1.0+cu121 CUDA:0 (NVIDIA GeForce RTX 4060 Ti, 7937MiB)\n",
    "# Setup complete ✅ (16 CPUs, 31.1 GB RAM, 358.8/915.3 GB disk)"
   ]
  },
  {
   "cell_type": "code",
   "execution_count": 3,
   "metadata": {},
   "outputs": [],
   "source": [
    "import pandas as pd\n",
    "import numpy as np\n",
    "cla=[\"complete\",\"incomplete\",\"blurry.complete\",\"blurry.incomplete\",\"hair\"]\n",
    "def process_dataframe(df):\n",
    "    # Rename columns\n",
    "    df.columns = ['class', 'x1', 'y1', 'x2', 'y2', 'x3', 'y3', 'x4', 'y4', 'confidence']\n",
    "\n",
    "    # Calculate stomata center coordinates\n",
    "    df['boundingbox_x'] = df[['x1', 'x2', 'x3', 'x4']].mean(axis=1)\n",
    "    df['boundingbox_y'] = df[['y1', 'y2', 'y3', 'y4']].mean(axis=1)\n",
    "    # Calculate width and height\n",
    "    df['boundingbox_width'] = np.sqrt((df['x2'] - df['x1'])**2 + (df['y2'] - df['y1'])**2)\n",
    "    df['boundingbox_height'] = np.sqrt((df['x4'] - df['x1'])**2 + (df['y4'] - df['y1'])**2)\n",
    "    # Add type column\n",
    "    df['File Name'] = i.split('\\\\')[-1].split('.')[0]\n",
    "    df['class']=df['class'].apply(lambda x: cla[x])\n",
    "        # Calculate rotation\n",
    "    \n",
    "    #df['rotation'] = np.degrees(np.arctan2(df['y2'] - df['y1'], df['x2'] - df['x1']))\n",
    "    df = df.drop(columns=['x1', 'y1', 'x2', 'y2', 'x3', 'y3', 'x4', 'y4'])\n",
    "\n",
    "    columns_order = ['class', 'boundingbox_x','boundingbox_y','boundingbox_width',\n",
    "                     'boundingbox_height',\n",
    "                     'confidence','File Name'\n",
    "                     #,'rotation'\n",
    "                     ]\n",
    "    df = df[columns_order]\n",
    "    return df\n",
    "\n"
   ]
  },
  {
   "cell_type": "code",
   "execution_count": null,
   "metadata": {},
   "outputs": [],
   "source": [
    "\n",
    "import pandas as pd\n",
    "import os\n",
    "from tkinter.filedialog import askdirectory\n",
    "from ultralytics import YOLO\n",
    "\n",
    "\n",
    "# Put pretrain model weights in this file\n",
    "model = YOLO('./K-FoldBest.pt')\n",
    "path = askdirectory(title='Select Folder')\n",
    "print(path.split('/')[-1])\n",
    "\n",
    "results = model.predict( path,save=True,save_crop = False,save_txt = True,save_conf = True)  # predict on an image\n",
    "def get_newest_folder(path):\n",
    "  # Get a list of all directories in the specified path\n",
    "  dirs = [d for d in os.listdir(path) if os.path.isdir(os.path.join(path, d))]\n",
    "  # Sort the directories based on creation time\n",
    "  dirs.sort(key=lambda d: os.path.getctime(os.path.join(path, d)), reverse=True)\n",
    "  # Return the newest folder\n",
    "  if dirs:\n",
    "    return dirs[0]\n",
    "  else:\n",
    "    return None\n",
    "\n",
    "# Example usage\n",
    "path_to_search = \"runs/obb/\"\n",
    "newest_folder = get_newest_folder(path_to_search)\n",
    "\n",
    "labels = [os.path.join(path_to_search+newest_folder+'/labels', x) for x in os.listdir(path_to_search+newest_folder+'/labels') if x[-3:] == \"txt\"]\n",
    "labels.sort()\n",
    "\n",
    "\n",
    "#labels = [os.path.join('./runs/obb/predict/labels', x) for x in os.listdir('./runs/obb/predict/labels') if x[-3:] == \"txt\"]\n",
    "#labels.sort()\n",
    "\n",
    "\n",
    "# Convert and save the labels to csv file\n",
    "dataframes = []\n",
    "for i in labels:\n",
    "    df = pd.read_csv(i, sep=\" \",header = None)\n",
    "    df= process_dataframe(df)\n",
    "    save_name = i.replace('txt','csv')\n",
    "    dataframes.append(df)\n",
    "\n",
    "final_dataframe = pd.concat(dataframes, ignore_index=True)\n",
    "#final_dataframe.to_excel('/content/drive/MyDrive/Ntu_stomata/result/res_noblurry.xlsx')\n",
    "final_dataframe.to_csv('./result/Ntu/'+path.split('/')[-1]+'.csv', encoding = 'utf-8',index = False)\n"
   ]
  }
 ],
 "metadata": {
  "kernelspec": {
   "display_name": "stomaenv",
   "language": "python",
   "name": "python3"
  },
  "language_info": {
   "codemirror_mode": {
    "name": "ipython",
    "version": 3
   },
   "file_extension": ".py",
   "mimetype": "text/x-python",
   "name": "python",
   "nbconvert_exporter": "python",
   "pygments_lexer": "ipython3",
   "version": "3.10.0"
  }
 },
 "nbformat": 4,
 "nbformat_minor": 2
}
